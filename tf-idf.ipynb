{
 "cells": [
  {
   "cell_type": "code",
   "execution_count": 1,
   "id": "15d00b76",
   "metadata": {},
   "outputs": [
    {
     "name": "stdout",
     "output_type": "stream",
     "text": [
      "Requirement already satisfied: numpy in c:\\users\\hp\\anaconda3\\lib\\site-packages (1.24.3)\n",
      "Requirement already satisfied: scikit-learn in c:\\users\\hp\\anaconda3\\lib\\site-packages (1.3.0)\n",
      "Requirement already satisfied: nltk in c:\\users\\hp\\anaconda3\\lib\\site-packages (3.8.1)\n",
      "Requirement already satisfied: rouge in c:\\users\\hp\\anaconda3\\lib\\site-packages (1.0.1)\n",
      "Requirement already satisfied: scipy>=1.5.0 in c:\\users\\hp\\anaconda3\\lib\\site-packages (from scikit-learn) (1.10.1)\n",
      "Requirement already satisfied: joblib>=1.1.1 in c:\\users\\hp\\anaconda3\\lib\\site-packages (from scikit-learn) (1.2.0)\n",
      "Requirement already satisfied: threadpoolctl>=2.0.0 in c:\\users\\hp\\anaconda3\\lib\\site-packages (from scikit-learn) (2.2.0)\n",
      "Requirement already satisfied: click in c:\\users\\hp\\anaconda3\\lib\\site-packages (from nltk) (8.0.4)\n",
      "Requirement already satisfied: regex>=2021.8.3 in c:\\users\\hp\\anaconda3\\lib\\site-packages (from nltk) (2022.7.9)\n",
      "Requirement already satisfied: tqdm in c:\\users\\hp\\anaconda3\\lib\\site-packages (from nltk) (4.65.0)\n",
      "Requirement already satisfied: six in c:\\users\\hp\\anaconda3\\lib\\site-packages (from rouge) (1.16.0)\n",
      "Requirement already satisfied: colorama in c:\\users\\hp\\anaconda3\\lib\\site-packages (from click->nltk) (0.4.6)\n",
      "Note: you may need to restart the kernel to use updated packages.\n"
     ]
    }
   ],
   "source": [
    "pip install numpy scikit-learn nltk rouge"
   ]
  },
  {
   "cell_type": "code",
   "execution_count": 2,
   "id": "8095d03c",
   "metadata": {},
   "outputs": [],
   "source": [
    "import numpy as np\n",
    "from sklearn.feature_extraction.text import TfidfVectorizer\n",
    "from sklearn.metrics.pairwise import cosine_similarity\n",
    "from nltk.corpus import stopwords\n",
    "from rouge import Rouge"
   ]
  },
  {
   "cell_type": "code",
   "execution_count": 3,
   "id": "a74a4aa3",
   "metadata": {},
   "outputs": [],
   "source": [
    "import re\n",
    "\n",
    "def preprocess_text(text):\n",
    "    # Remove special characters and digits\n",
    "    text = re.sub(r'[^a-zA-Z\\s]', '', text)\n",
    "    return text.lower()\n"
   ]
  },
  {
   "cell_type": "code",
   "execution_count": 9,
   "id": "1254331a",
   "metadata": {},
   "outputs": [],
   "source": [
    "def calculate_tfidf_scores(sentences):\n",
    "    stop_words = list(set(stopwords.words('english')))\n",
    "    \n",
    "    # Create TF-IDF vectorizer\n",
    "    vectorizer = TfidfVectorizer(stop_words=stop_words)\n",
    "    \n",
    "    # Calculate TF-IDF scores\n",
    "    tfidf_matrix = vectorizer.fit_transform(sentences)\n",
    "    \n",
    "    return tfidf_matrix\n"
   ]
  },
  {
   "cell_type": "code",
   "execution_count": 13,
   "id": "6a45f325",
   "metadata": {},
   "outputs": [],
   "source": [
    "def generate_summary(tfidf_matrix, sentences, num_sentences=3):\n",
    "    sentence_scores = np.sum(tfidf_matrix, axis=1)\n",
    "    top_sentences_idx = np.argsort(sentence_scores, axis=0)[-num_sentences:][::-1]\n",
    "    top_sentences_idx = top_sentences_idx.flatten()\n",
    "    \n",
    "    # Ensure indices are integers\n",
    "    top_sentences_idx = [int(idx) for idx in top_sentences_idx]\n",
    "\n",
    "    summary = [sentences[i] for i in top_sentences_idx]\n",
    "    return ' '.join(summary)\n",
    "\n"
   ]
  },
  {
   "cell_type": "code",
   "execution_count": 6,
   "id": "2b62098e",
   "metadata": {},
   "outputs": [],
   "source": [
    "def calculate_rouge(reference, summary):\n",
    "    rouge = Rouge()\n",
    "    scores = rouge.get_scores(summary, reference)\n",
    "    return scores[0]['rouge-1']['f']\n"
   ]
  },
  {
   "cell_type": "code",
   "execution_count": 7,
   "id": "babfc2b4",
   "metadata": {},
   "outputs": [],
   "source": [
    "def calculate_overlap_ratio(reference, summary):\n",
    "    reference_words = set(reference.split())\n",
    "    summary_words = set(summary.split())\n",
    "    overlap = len(reference_words.intersection(summary_words))\n",
    "    ratio = overlap / len(reference_words)\n",
    "    return ratio\n"
   ]
  },
  {
   "cell_type": "code",
   "execution_count": 15,
   "id": "97687f11",
   "metadata": {},
   "outputs": [
    {
     "name": "stdout",
     "output_type": "stream",
     "text": [
      "Input Paragraph:\n",
      "\n",
      "Natural language processing (NLP) is a field of artificial intelligence that focuses on the interaction between computers and humans using natural language. It enables computers to understand, interpret, and generate human-like text. NLP involves several challenges, including natural language understanding, language generation, and language translation. Text summarization is a specific NLP task that involves reducing the length of a document while retaining its key information. There are two main approaches to text summarization: extractive and abstractive. Extractive methods select important sentences from the original text, while abstractive methods generate new sentences to form the summary.\n",
      "\n",
      "\n",
      "Generated Summary:\n",
      "\n",
      "natural language processing nlp is a field of artificial intelligence that focuses on the interaction between computers and humans using natural language it enables computers to understand interpret and generate humanlike text nlp involves several challenges including natural language understanding language generation and language translation text summarization is a specific nlp task that involves reducing the length of a document while retaining its key information there are two main approaches to text summarization extractive and abstractive extractive methods select important sentences from the original text while abstractive methods generate new sentences to form the summary\n",
      "\n",
      "\n",
      "Reference Summary:\n",
      "\n",
      "Natural language processing (NLP) is a field of artificial intelligence that focuses on the interaction between computers and humans using natural language\n",
      "\n",
      "\n",
      "ROUGE Score: 0.45783132152126577\n",
      "Overlap Ratio: 0.9047619047619048\n"
     ]
    }
   ],
   "source": [
    "# Example input paragraph\n",
    "input_paragraph = \"\"\"\n",
    "Natural language processing (NLP) is a field of artificial intelligence that focuses on the interaction between computers and humans using natural language. It enables computers to understand, interpret, and generate human-like text. NLP involves several challenges, including natural language understanding, language generation, and language translation. Text summarization is a specific NLP task that involves reducing the length of a document while retaining its key information. There are two main approaches to text summarization: extractive and abstractive. Extractive methods select important sentences from the original text, while abstractive methods generate new sentences to form the summary.\n",
    "\"\"\"\n",
    "\n",
    "# Preprocess the text\n",
    "processed_text = preprocess_text(input_paragraph)\n",
    "\n",
    "# Tokenize the text into sentences\n",
    "sentences = processed_text.split('.')\n",
    "\n",
    "# Calculate TF-IDF scores\n",
    "tfidf_matrix = calculate_tfidf_scores(sentences)\n",
    "\n",
    "# Generate summary using TF-IDF\n",
    "summary = generate_summary(tfidf_matrix, sentences, num_sentences=3)\n",
    "\n",
    "# Example reference summary for evaluation\n",
    "reference_summary = \"\"\"\n",
    "Natural language processing (NLP) is a field of artificial intelligence that focuses on the interaction between computers and humans using natural language\n",
    "\"\"\"\n",
    "\n",
    "# Evaluate performance using ROUGE\n",
    "rouge_score = calculate_rouge(reference_summary, summary)\n",
    "\n",
    "# Calculate overlap ratio\n",
    "overlap_ratio = calculate_overlap_ratio(reference_summary, summary)\n",
    "\n",
    "# Display the results\n",
    "print(\"Input Paragraph:\")\n",
    "print(input_paragraph)\n",
    "print(\"\\nGenerated Summary:\")\n",
    "print(summary)\n",
    "print(\"\\nReference Summary:\")\n",
    "print(reference_summary)\n",
    "print(\"\\nROUGE Score:\", rouge_score)\n",
    "print(\"Overlap Ratio:\", overlap_ratio)\n"
   ]
  },
  {
   "cell_type": "code",
   "execution_count": null,
   "id": "10b49915",
   "metadata": {},
   "outputs": [],
   "source": []
  }
 ],
 "metadata": {
  "kernelspec": {
   "display_name": "Python 3 (ipykernel)",
   "language": "python",
   "name": "python3"
  },
  "language_info": {
   "codemirror_mode": {
    "name": "ipython",
    "version": 3
   },
   "file_extension": ".py",
   "mimetype": "text/x-python",
   "name": "python",
   "nbconvert_exporter": "python",
   "pygments_lexer": "ipython3",
   "version": "3.11.4"
  }
 },
 "nbformat": 4,
 "nbformat_minor": 5
}
